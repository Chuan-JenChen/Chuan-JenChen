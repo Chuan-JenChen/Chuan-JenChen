{
 "cells": [
  {
   "cell_type": "markdown",
   "id": "ebc6e038-81da-49c1-9047-3a034e22ecf3",
   "metadata": {},
   "source": [
    "### LIST"
   ]
  },
  {
   "cell_type": "code",
   "execution_count": 2,
   "id": "ad28d295-a6ba-406b-a323-ad223b9adce9",
   "metadata": {},
   "outputs": [
    {
     "data": {
      "text/plain": [
       "[100, 200, 800, 500]"
      ]
     },
     "execution_count": 2,
     "metadata": {},
     "output_type": "execute_result"
    }
   ],
   "source": [
    "list1=[100,200,800,500]\n",
    "list1"
   ]
  },
  {
   "cell_type": "code",
   "execution_count": 5,
   "id": "d1a2463c-a6c4-4bd6-a0a0-26ece895a6c6",
   "metadata": {},
   "outputs": [
    {
     "data": {
      "text/plain": [
       "list"
      ]
     },
     "execution_count": 5,
     "metadata": {},
     "output_type": "execute_result"
    }
   ],
   "source": [
    "list2=[]\n",
    "type(list2) # 資料型態"
   ]
  },
  {
   "cell_type": "code",
   "execution_count": 6,
   "id": "b5f8afc0-d415-4c12-90ea-b1ef75888bce",
   "metadata": {},
   "outputs": [
    {
     "data": {
      "text/plain": [
       "800"
      ]
     },
     "execution_count": 6,
     "metadata": {},
     "output_type": "execute_result"
    }
   ],
   "source": [
    "list1[2]"
   ]
  },
  {
   "cell_type": "code",
   "execution_count": null,
   "id": "4d817807-ec71-4c4b-8267-81843a0a79c0",
   "metadata": {},
   "outputs": [],
   "source": []
  },
  {
   "cell_type": "code",
   "execution_count": 9,
   "id": "5a19b4aa-db6b-43ce-8c44-5773dfcec028",
   "metadata": {},
   "outputs": [
    {
     "data": {
      "text/plain": [
       "[100, 200, 800]"
      ]
     },
     "execution_count": 9,
     "metadata": {},
     "output_type": "execute_result"
    }
   ],
   "source": [
    "list1[:3] #slice 從開始到哪裡結束"
   ]
  },
  {
   "cell_type": "code",
   "execution_count": 14,
   "id": "637a661d-11df-4261-892d-7eaab5725aa4",
   "metadata": {},
   "outputs": [
    {
     "data": {
      "text/plain": [
       "['python', 200, 800, 500]"
      ]
     },
     "execution_count": 14,
     "metadata": {},
     "output_type": "execute_result"
    }
   ],
   "source": [
    "list1[0]='python'\n",
    "list1"
   ]
  },
  {
   "cell_type": "code",
   "execution_count": 15,
   "id": "b33e3d1f-d7ac-41ad-a80f-23556a4c976b",
   "metadata": {},
   "outputs": [
    {
     "data": {
      "text/plain": [
       "['python', 200, 800, 500]"
      ]
     },
     "execution_count": 15,
     "metadata": {},
     "output_type": "execute_result"
    }
   ],
   "source": [
    "list1[1:3]\n",
    "list1"
   ]
  },
  {
   "cell_type": "code",
   "execution_count": 16,
   "id": "35626654-383a-4b2c-97f1-6563a617aeaa",
   "metadata": {},
   "outputs": [
    {
     "data": {
      "text/plain": [
       "['python', 1000, 3000, 500]"
      ]
     },
     "execution_count": 16,
     "metadata": {},
     "output_type": "execute_result"
    }
   ],
   "source": [
    "list1[1:3]=[1000,3000]\n",
    "list1"
   ]
  },
  {
   "cell_type": "code",
   "execution_count": 19,
   "id": "ea71c745-5ccb-41cd-8f4b-3fc25b944f32",
   "metadata": {},
   "outputs": [
    {
     "data": {
      "text/plain": [
       "[33, 'python', [11, 22, 33], 88]"
      ]
     },
     "execution_count": 19,
     "metadata": {},
     "output_type": "execute_result"
    }
   ],
   "source": [
    "list3=[33,'python',[11,22,33],88]\n",
    "list3\n"
   ]
  },
  {
   "cell_type": "code",
   "execution_count": 20,
   "id": "7547593f-3609-4f15-a9da-7527fcdfe56f",
   "metadata": {},
   "outputs": [
    {
     "data": {
      "text/plain": [
       "[11, 22, 33]"
      ]
     },
     "execution_count": 20,
     "metadata": {},
     "output_type": "execute_result"
    }
   ],
   "source": [
    "list3[2]"
   ]
  },
  {
   "cell_type": "code",
   "execution_count": 21,
   "id": "6bd2c20b-0095-4c9d-80ac-8288ad0a02d9",
   "metadata": {},
   "outputs": [
    {
     "data": {
      "text/plain": [
       "22"
      ]
     },
     "execution_count": 21,
     "metadata": {},
     "output_type": "execute_result"
    }
   ],
   "source": [
    "list3[2][1]"
   ]
  },
  {
   "cell_type": "code",
   "execution_count": null,
   "id": "293a3ccc-b552-4cdf-ae89-ee3c252232c3",
   "metadata": {},
   "outputs": [],
   "source": []
  },
  {
   "cell_type": "code",
   "execution_count": 24,
   "id": "68a46a2f-9e5f-404a-a9a5-c7b40a558b71",
   "metadata": {},
   "outputs": [
    {
     "data": {
      "text/plain": [
       "[33, 'python', [11, 120000, 33], 88]"
      ]
     },
     "execution_count": 24,
     "metadata": {},
     "output_type": "execute_result"
    }
   ],
   "source": [
    "list3[2][1]=120000\n",
    "list3"
   ]
  },
  {
   "cell_type": "code",
   "execution_count": 25,
   "id": "897b9cb8-0d64-4568-bc17-aceadb934919",
   "metadata": {},
   "outputs": [
    {
     "data": {
      "text/plain": [
       "[1, 2, 3, 4, 5, 6, 2, 3, 6, 5, 4, 7]"
      ]
     },
     "execution_count": 25,
     "metadata": {},
     "output_type": "execute_result"
    }
   ],
   "source": [
    "[1,2,3,4,5,6]+[2,3,6,5,4,7]"
   ]
  },
  {
   "cell_type": "markdown",
   "id": "a8ce595b-2da6-45ee-9399-fc841fcdb359",
   "metadata": {},
   "source": [
    "### Tuple\n"
   ]
  },
  {
   "cell_type": "code",
   "execution_count": 27,
   "id": "71344fae-7bc8-4167-b031-b3b9177a41c8",
   "metadata": {},
   "outputs": [
    {
     "data": {
      "text/plain": [
       "(1, 2, 3, 4)"
      ]
     },
     "execution_count": 27,
     "metadata": {},
     "output_type": "execute_result"
    }
   ],
   "source": [
    "tup1=(1,2,3,4)\n",
    "tup1"
   ]
  },
  {
   "cell_type": "code",
   "execution_count": 29,
   "id": "9d7a81a9-332d-4603-b615-ceb6d75bf262",
   "metadata": {},
   "outputs": [
    {
     "data": {
      "text/plain": [
       "('a', 'b', 'c')"
      ]
     },
     "execution_count": 29,
     "metadata": {},
     "output_type": "execute_result"
    }
   ],
   "source": [
    "tup2='a','b','c',\n",
    "tup2"
   ]
  },
  {
   "cell_type": "code",
   "execution_count": 30,
   "id": "0bd4216d-640a-4718-be20-e9d88f747400",
   "metadata": {},
   "outputs": [
    {
     "data": {
      "text/plain": [
       "int"
      ]
     },
     "execution_count": 30,
     "metadata": {},
     "output_type": "execute_result"
    }
   ],
   "source": [
    "tup3=(50)\n",
    "type(tup3)"
   ]
  },
  {
   "cell_type": "code",
   "execution_count": null,
   "id": "6a27b6f9-19bb-47de-9dbe-299a1289ed7e",
   "metadata": {},
   "outputs": [],
   "source": []
  },
  {
   "cell_type": "code",
   "execution_count": 35,
   "id": "c3b46cf7-c1f8-485c-9c2d-094c32d4d83c",
   "metadata": {},
   "outputs": [
    {
     "data": {
      "text/plain": [
       "tuple"
      ]
     },
     "execution_count": 35,
     "metadata": {},
     "output_type": "execute_result"
    }
   ],
   "source": [
    "tup4=(50,)\n",
    "type(tup4)   #tup後面一定要有,才是TUP型態 ,就是TUP"
   ]
  },
  {
   "cell_type": "code",
   "execution_count": 33,
   "id": "f0e20970-7f75-43a4-83b1-cdcf813d36d2",
   "metadata": {},
   "outputs": [
    {
     "data": {
      "text/plain": [
       "3"
      ]
     },
     "execution_count": 33,
     "metadata": {},
     "output_type": "execute_result"
    }
   ],
   "source": [
    "tup1[2]"
   ]
  },
  {
   "cell_type": "code",
   "execution_count": 34,
   "id": "70293d15-a27f-4007-b68d-0bc065596d76",
   "metadata": {},
   "outputs": [
    {
     "data": {
      "text/plain": [
       "(1, 2)"
      ]
     },
     "execution_count": 34,
     "metadata": {},
     "output_type": "execute_result"
    }
   ],
   "source": [
    "tup1[:2]"
   ]
  },
  {
   "cell_type": "code",
   "execution_count": 36,
   "id": "a5eebdee-b5d8-4275-b677-1762ca36cc08",
   "metadata": {},
   "outputs": [
    {
     "ename": "TypeError",
     "evalue": "'tuple' object does not support item assignment",
     "output_type": "error",
     "traceback": [
      "\u001b[1;31m---------------------------------------------------------------------------\u001b[0m",
      "\u001b[1;31mTypeError\u001b[0m                                 Traceback (most recent call last)",
      "Input \u001b[1;32mIn [36]\u001b[0m, in \u001b[0;36m<cell line: 1>\u001b[1;34m()\u001b[0m\n\u001b[1;32m----> 1\u001b[0m tup1[\u001b[38;5;241m2\u001b[39m]\u001b[38;5;241m=\u001b[39m\u001b[38;5;241m30\u001b[39m\n",
      "\u001b[1;31mTypeError\u001b[0m: 'tuple' object does not support item assignment"
     ]
    }
   ],
   "source": [
    "tup1[2]=30"
   ]
  },
  {
   "cell_type": "code",
   "execution_count": null,
   "id": "934ed834-1814-41c2-8b1c-9f699c890c84",
   "metadata": {},
   "outputs": [],
   "source": []
  },
  {
   "cell_type": "code",
   "execution_count": 37,
   "id": "67d9eb6c-8319-4f98-941a-411fd6220d7f",
   "metadata": {},
   "outputs": [
    {
     "data": {
      "text/plain": [
       "(33, 'python', [11, 22, 33], 88)"
      ]
     },
     "execution_count": 37,
     "metadata": {},
     "output_type": "execute_result"
    }
   ],
   "source": [
    "tup5=(33,'python',[11,22,33],88)\n",
    "tup5\n"
   ]
  },
  {
   "cell_type": "code",
   "execution_count": 40,
   "id": "958810f0-0072-40c9-8cbe-b77f39e776dc",
   "metadata": {},
   "outputs": [
    {
     "data": {
      "text/plain": [
       "[11, 22, 33]"
      ]
     },
     "execution_count": 40,
     "metadata": {},
     "output_type": "execute_result"
    }
   ],
   "source": [
    "tup5[2] #得到一個list"
   ]
  },
  {
   "cell_type": "code",
   "execution_count": 55,
   "id": "df68a2c6-8cec-47c0-b66a-78027b594237",
   "metadata": {},
   "outputs": [],
   "source": [
    "tup5[2][1]=20  #可以改變tuple裡面list的內容"
   ]
  },
  {
   "cell_type": "code",
   "execution_count": 56,
   "id": "ad028de4-ed29-45e7-92c2-04d53e47a871",
   "metadata": {},
   "outputs": [
    {
     "data": {
      "text/plain": [
       "(33, 'python', [11, 20, 33], 88)"
      ]
     },
     "execution_count": 56,
     "metadata": {},
     "output_type": "execute_result"
    }
   ],
   "source": [
    "tup5"
   ]
  },
  {
   "cell_type": "markdown",
   "id": "3b6f0e04-ba6d-4f3c-9818-1d527828fa7b",
   "metadata": {},
   "source": [
    "#### 整個變數assign到另一個tuple 是不會有問題的，其中一項改變就不行"
   ]
  },
  {
   "cell_type": "code",
   "execution_count": 57,
   "id": "dbbaffd9-8779-4f01-af12-d0e04adc18d8",
   "metadata": {},
   "outputs": [
    {
     "data": {
      "text/plain": [
       "(3, 4, 5)"
      ]
     },
     "execution_count": 57,
     "metadata": {},
     "output_type": "execute_result"
    }
   ],
   "source": [
    "tup1=(3,4,5) \n",
    "tup1"
   ]
  },
  {
   "cell_type": "markdown",
   "id": "66e85565-d782-42a8-a8c8-afb96db4082a",
   "metadata": {},
   "source": [
    "### List comprehensions"
   ]
  },
  {
   "cell_type": "code",
   "execution_count": 75,
   "id": "4fe3f8c8-57de-4548-9aa9-880d7656c10e",
   "metadata": {},
   "outputs": [
    {
     "data": {
      "text/plain": [
       "[0, 1, 4, 9, 16, 25, 36, 49, 64, 81, 100]"
      ]
     },
     "execution_count": 75,
     "metadata": {},
     "output_type": "execute_result"
    }
   ],
   "source": [
    "s=[x**2for x in range(11)]\n",
    "s"
   ]
  },
  {
   "cell_type": "code",
   "execution_count": 68,
   "id": "2dc9f986-3868-41e8-82f6-17208436dcb7",
   "metadata": {},
   "outputs": [
    {
     "data": {
      "text/plain": [
       "[1, 2, 4, 8, 16, 32, 64, 128, 256, 512, 1024]"
      ]
     },
     "execution_count": 68,
     "metadata": {},
     "output_type": "execute_result"
    }
   ],
   "source": [
    "V=[2**i for i in range(11)]\n",
    "V"
   ]
  },
  {
   "cell_type": "code",
   "execution_count": 76,
   "id": "a09426c8-cdef-4c18-b135-43d9acfc24ae",
   "metadata": {},
   "outputs": [
    {
     "data": {
      "text/plain": [
       "[0, 4, 16, 36, 64, 100]"
      ]
     },
     "execution_count": 76,
     "metadata": {},
     "output_type": "execute_result"
    }
   ],
   "source": [
    "M=[s for s in s if s%2==0]\n",
    "M"
   ]
  },
  {
   "cell_type": "markdown",
   "id": "8200e14b-4a96-4d37-b0a8-026dcadfc5c7",
   "metadata": {},
   "source": [
    "### 效能評估\n"
   ]
  },
  {
   "cell_type": "code",
   "execution_count": 84,
   "id": "b4243b4e-2248-4155-ae58-19f63178ac06",
   "metadata": {},
   "outputs": [
    {
     "name": "stdout",
     "output_type": "stream",
     "text": [
      "2.47 µs ± 16.2 ns per loop (mean ± std. dev. of 7 runs, 100,000 loops each)\n"
     ]
    }
   ],
   "source": [
    "%%timeit\n",
    "S=[]\n",
    "for d in range(10):\n",
    "    S.append(d**2)"
   ]
  },
  {
   "cell_type": "code",
   "execution_count": 83,
   "id": "176ec8f0-d4e7-4768-a4ff-81b4d75a4747",
   "metadata": {},
   "outputs": [
    {
     "data": {
      "text/plain": [
       "[0, 1, 4, 9, 16, 25, 36, 49, 64, 81]"
      ]
     },
     "execution_count": 83,
     "metadata": {},
     "output_type": "execute_result"
    }
   ],
   "source": [
    "S"
   ]
  },
  {
   "cell_type": "code",
   "execution_count": 90,
   "id": "eb67415d-f0af-4196-bf18-564355939b1e",
   "metadata": {},
   "outputs": [
    {
     "name": "stdout",
     "output_type": "stream",
     "text": [
      "2.56 µs ± 21.2 ns per loop (mean ± std. dev. of 7 runs, 100,000 loops each)\n"
     ]
    }
   ],
   "source": [
    "%%timeit\n",
    "s=[x**2for x in range(11)]\n"
   ]
  },
  {
   "cell_type": "code",
   "execution_count": 92,
   "id": "57b47087-ec8e-488e-b26a-5d3b6b85c3b5",
   "metadata": {},
   "outputs": [
    {
     "data": {
      "text/plain": [
       "[0, 1, 4, 9, 16, 25, 36, 49, 64, 81, 100]"
      ]
     },
     "execution_count": 92,
     "metadata": {},
     "output_type": "execute_result"
    }
   ],
   "source": [
    "s"
   ]
  },
  {
   "cell_type": "markdown",
   "id": "dff52f69-0c8b-444c-912b-9d2fe8ded0e1",
   "metadata": {},
   "source": [
    "### Dict 字典 Pandas 的 DateFrame 以及 Spark的 DateFrame都會用到dict\n"
   ]
  },
  {
   "cell_type": "code",
   "execution_count": 2,
   "id": "f295a322-b28f-40c9-9339-40212c7f9270",
   "metadata": {},
   "outputs": [],
   "source": [
    "d1=dict(name='JJ',ages=22,sex=\"M\")"
   ]
  },
  {
   "cell_type": "code",
   "execution_count": 3,
   "id": "ee822264-33ab-44b9-9896-94f045ae34e8",
   "metadata": {},
   "outputs": [
    {
     "data": {
      "text/plain": [
       "{'name': 'JJ', 'ages': 22, 'sex': 'M'}"
      ]
     },
     "execution_count": 3,
     "metadata": {},
     "output_type": "execute_result"
    }
   ],
   "source": [
    "d1"
   ]
  },
  {
   "cell_type": "code",
   "execution_count": 21,
   "id": "79cafbb9-604d-4ab0-8711-06b241c55ed5",
   "metadata": {},
   "outputs": [
    {
     "data": {
      "text/plain": [
       "{'id': 'A002', 22: 'A'}"
      ]
     },
     "execution_count": 21,
     "metadata": {},
     "output_type": "execute_result"
    }
   ],
   "source": [
    "d2={'id':'A002',22:'A'}\n",
    "d2"
   ]
  },
  {
   "cell_type": "code",
   "execution_count": 5,
   "id": "e5c37388-a63b-4ab2-ac1c-0fc40946c159",
   "metadata": {},
   "outputs": [
    {
     "data": {
      "text/plain": [
       "'JJ'"
      ]
     },
     "execution_count": 5,
     "metadata": {},
     "output_type": "execute_result"
    }
   ],
   "source": [
    "d1['name']\n"
   ]
  },
  {
   "cell_type": "code",
   "execution_count": 6,
   "id": "8a71395c-b8ef-4ec1-b1b5-c25111c60e2f",
   "metadata": {},
   "outputs": [
    {
     "data": {
      "text/plain": [
       "'A002'"
      ]
     },
     "execution_count": 6,
     "metadata": {},
     "output_type": "execute_result"
    }
   ],
   "source": [
    "d2['id']"
   ]
  },
  {
   "cell_type": "code",
   "execution_count": 8,
   "id": "7360de89-cdac-4d41-a33c-358c7bb66a04",
   "metadata": {},
   "outputs": [
    {
     "data": {
      "text/plain": [
       "'A'"
      ]
     },
     "execution_count": 8,
     "metadata": {},
     "output_type": "execute_result"
    }
   ],
   "source": [
    "d2[22]  #很容易誤判為list,tuple"
   ]
  },
  {
   "cell_type": "code",
   "execution_count": 9,
   "id": "255e0aac-be2c-4742-9f08-dc02c3d106a5",
   "metadata": {},
   "outputs": [
    {
     "ename": "KeyError",
     "evalue": "'addr'",
     "output_type": "error",
     "traceback": [
      "\u001b[1;31m---------------------------------------------------------------------------\u001b[0m",
      "\u001b[1;31mKeyError\u001b[0m                                  Traceback (most recent call last)",
      "Input \u001b[1;32mIn [9]\u001b[0m, in \u001b[0;36m<cell line: 1>\u001b[1;34m()\u001b[0m\n\u001b[1;32m----> 1\u001b[0m \u001b[43md1\u001b[49m\u001b[43m[\u001b[49m\u001b[38;5;124;43m'\u001b[39;49m\u001b[38;5;124;43maddr\u001b[39;49m\u001b[38;5;124;43m'\u001b[39;49m\u001b[43m]\u001b[49m\n",
      "\u001b[1;31mKeyError\u001b[0m: 'addr'"
     ]
    }
   ],
   "source": [
    "d1['addr']"
   ]
  },
  {
   "cell_type": "code",
   "execution_count": 10,
   "id": "64b87f70-2655-4367-92a3-a914326f9214",
   "metadata": {},
   "outputs": [
    {
     "data": {
      "text/plain": [
       "22"
      ]
     },
     "execution_count": 10,
     "metadata": {},
     "output_type": "execute_result"
    }
   ],
   "source": [
    "d1['ages']"
   ]
  },
  {
   "cell_type": "code",
   "execution_count": null,
   "id": "db1b57ae-b553-41e8-9fd6-eecdcef6dd4b",
   "metadata": {},
   "outputs": [],
   "source": []
  },
  {
   "cell_type": "code",
   "execution_count": 13,
   "id": "8c53037a-8bfb-41f0-ad08-4aa88a56c677",
   "metadata": {},
   "outputs": [],
   "source": [
    "d1['ages']=24  #update"
   ]
  },
  {
   "cell_type": "code",
   "execution_count": 12,
   "id": "b7857590-dfbf-46ef-97f5-f5a2a43f5d9e",
   "metadata": {},
   "outputs": [
    {
     "data": {
      "text/plain": [
       "{'name': 'JJ', 'ages': 24, 'sex': 'M'}"
      ]
     },
     "execution_count": 12,
     "metadata": {},
     "output_type": "execute_result"
    }
   ],
   "source": [
    "d1"
   ]
  },
  {
   "cell_type": "code",
   "execution_count": 14,
   "id": "718c0fee-52bd-484e-ba19-622f48cb93d2",
   "metadata": {},
   "outputs": [],
   "source": [
    "d1['nickname']='KK'  #新增"
   ]
  },
  {
   "cell_type": "code",
   "execution_count": 16,
   "id": "9ce12ed2-5dff-4192-b183-f9428dfe44e4",
   "metadata": {},
   "outputs": [
    {
     "data": {
      "text/plain": [
       "{'name': 'JJ', 'ages': 24, 'sex': 'M', 'nickname': 'KK'}"
      ]
     },
     "execution_count": 16,
     "metadata": {},
     "output_type": "execute_result"
    }
   ],
   "source": [
    "d1"
   ]
  },
  {
   "cell_type": "code",
   "execution_count": 17,
   "id": "a14b96b0-c635-4f48-8e12-d49416b98522",
   "metadata": {},
   "outputs": [
    {
     "data": {
      "text/plain": [
       "{'id': 'A002', 22: 'A'}"
      ]
     },
     "execution_count": 17,
     "metadata": {},
     "output_type": "execute_result"
    }
   ],
   "source": [
    "d2"
   ]
  },
  {
   "cell_type": "code",
   "execution_count": 22,
   "id": "5b4cc0ac-d918-4464-9eab-44f1ba3ba0d3",
   "metadata": {},
   "outputs": [
    {
     "data": {
      "text/plain": [
       "{'id': 'A002'}"
      ]
     },
     "execution_count": 22,
     "metadata": {},
     "output_type": "execute_result"
    }
   ],
   "source": [
    "del d2[22]\n",
    "d2"
   ]
  },
  {
   "cell_type": "code",
   "execution_count": 23,
   "id": "a24617e6-0a14-44a1-859c-6e1cf633f528",
   "metadata": {},
   "outputs": [
    {
     "ename": "NameError",
     "evalue": "name 'd2' is not defined",
     "output_type": "error",
     "traceback": [
      "\u001b[1;31m---------------------------------------------------------------------------\u001b[0m",
      "\u001b[1;31mNameError\u001b[0m                                 Traceback (most recent call last)",
      "Input \u001b[1;32mIn [23]\u001b[0m, in \u001b[0;36m<cell line: 2>\u001b[1;34m()\u001b[0m\n\u001b[0;32m      1\u001b[0m \u001b[38;5;28;01mdel\u001b[39;00m d2 \u001b[38;5;66;03m#記憶體會在最恰當的時機回收\u001b[39;00m\n\u001b[1;32m----> 2\u001b[0m \u001b[43md2\u001b[49m\n",
      "\u001b[1;31mNameError\u001b[0m: name 'd2' is not defined"
     ]
    }
   ],
   "source": [
    "del d2 #記憶體會在最恰當的時機回收\n",
    "d2"
   ]
  },
  {
   "cell_type": "markdown",
   "id": "9c8fa10d-023d-4cd6-8a25-aa6db63ae87e",
   "metadata": {},
   "source": [
    "### set 集合"
   ]
  },
  {
   "cell_type": "code",
   "execution_count": 26,
   "id": "1adab361-0fbe-42cb-af07-9e1c93dffb07",
   "metadata": {},
   "outputs": [],
   "source": [
    "s1={3,3,1,4,2,5,5,5,6}"
   ]
  },
  {
   "cell_type": "code",
   "execution_count": 27,
   "id": "d61bfd9f-d350-4fe2-98d2-533c6f5de32c",
   "metadata": {},
   "outputs": [
    {
     "data": {
      "text/plain": [
       "{1, 2, 3, 4, 5, 6}"
      ]
     },
     "execution_count": 27,
     "metadata": {},
     "output_type": "execute_result"
    }
   ],
   "source": [
    "s1"
   ]
  },
  {
   "cell_type": "code",
   "execution_count": 28,
   "id": "88f3d3dc-9cb5-4aad-a3b2-9a40bb60c6db",
   "metadata": {},
   "outputs": [
    {
     "data": {
      "text/plain": [
       "True"
      ]
     },
     "execution_count": 28,
     "metadata": {},
     "output_type": "execute_result"
    }
   ],
   "source": [
    "4 in s1"
   ]
  },
  {
   "cell_type": "code",
   "execution_count": 29,
   "id": "6b478c17-fe8e-483e-bf61-af3390be777c",
   "metadata": {},
   "outputs": [
    {
     "data": {
      "text/plain": [
       "False"
      ]
     },
     "execution_count": 29,
     "metadata": {},
     "output_type": "execute_result"
    }
   ],
   "source": [
    "9 in s1\n"
   ]
  },
  {
   "cell_type": "code",
   "execution_count": null,
   "id": "0b88bf78-253a-4835-ac17-e8221da38421",
   "metadata": {},
   "outputs": [],
   "source": []
  }
 ],
 "metadata": {
  "kernelspec": {
   "display_name": "Python 3 (ipykernel)",
   "language": "python",
   "name": "python3"
  },
  "language_info": {
   "codemirror_mode": {
    "name": "ipython",
    "version": 3
   },
   "file_extension": ".py",
   "mimetype": "text/x-python",
   "name": "python",
   "nbconvert_exporter": "python",
   "pygments_lexer": "ipython3",
   "version": "3.10.4"
  }
 },
 "nbformat": 4,
 "nbformat_minor": 5
}
