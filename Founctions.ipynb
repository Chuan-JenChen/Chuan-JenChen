{
 "cells": [
  {
   "cell_type": "code",
   "execution_count": 1,
   "id": "94babfff-836f-41b7-923a-eec0ed6ea077",
   "metadata": {},
   "outputs": [
    {
     "name": "stdout",
     "output_type": "stream",
     "text": [
      "quack\n",
      "quack\n",
      "quack\n",
      "quack\n"
     ]
    }
   ],
   "source": [
    "%run ex51_func_def1.py"
   ]
  },
  {
   "cell_type": "code",
   "execution_count": 3,
   "id": "9ccedb39-9a67-4492-9370-27a10560f7fe",
   "metadata": {},
   "outputs": [
    {
     "name": "stdout",
     "output_type": "stream",
     "text": [
      "quack\n"
     ]
    }
   ],
   "source": [
    "#使用run執行程式後，該程式已經載入記憶體\n",
    "make_a_sound()"
   ]
  },
  {
   "cell_type": "code",
   "execution_count": 4,
   "id": "6ad76678-89a4-4fce-8e9e-df1d944f179d",
   "metadata": {},
   "outputs": [
    {
     "name": "stdout",
     "output_type": "stream",
     "text": [
      "Help on built-in function len in module builtins:\n",
      "\n",
      "len(obj, /)\n",
      "    Return the number of items in a container.\n",
      "\n"
     ]
    }
   ],
   "source": [
    "help(len)"
   ]
  },
  {
   "cell_type": "code",
   "execution_count": 5,
   "id": "f1838e79-3ce2-46f5-a68b-b992a8de29b5",
   "metadata": {},
   "outputs": [
    {
     "name": "stdout",
     "output_type": "stream",
     "text": [
      "Help on function make_a_sound in module __main__:\n",
      "\n",
      "make_a_sound()\n",
      "    This function print duck sound\n",
      "\n"
     ]
    }
   ],
   "source": [
    "help(make_a_sound)"
   ]
  },
  {
   "cell_type": "code",
   "execution_count": null,
   "id": "e90ee1c0-64be-4c41-b9e3-3cd26ac6b027",
   "metadata": {},
   "outputs": [],
   "source": []
  }
 ],
 "metadata": {
  "kernelspec": {
   "display_name": "Python 3 (ipykernel)",
   "language": "python",
   "name": "python3"
  },
  "language_info": {
   "codemirror_mode": {
    "name": "ipython",
    "version": 3
   },
   "file_extension": ".py",
   "mimetype": "text/x-python",
   "name": "python",
   "nbconvert_exporter": "python",
   "pygments_lexer": "ipython3",
   "version": "3.10.4"
  }
 },
 "nbformat": 4,
 "nbformat_minor": 5
}
